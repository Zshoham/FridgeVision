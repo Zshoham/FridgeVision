{
  "nbformat": 4,
  "nbformat_minor": 0,
  "metadata": {
    "colab": {
      "name": "FridgeVision.ipynb",
      "provenance": [],
      "toc_visible": true,
      "authorship_tag": "ABX9TyPX2DYY17K9U5PU4mOnTkXY",
      "include_colab_link": true
    },
    "kernelspec": {
      "name": "python3",
      "display_name": "Python 3"
    },
    "accelerator": "TPU"
  },
  "cells": [
    {
      "cell_type": "markdown",
      "metadata": {
        "id": "view-in-github",
        "colab_type": "text"
      },
      "source": [
        "<a href=\"https://colab.research.google.com/github/Zshoham/FridgeVision/blob/main/FridgeVision.ipynb\" target=\"_parent\"><img src=\"https://colab.research.google.com/assets/colab-badge.svg\" alt=\"Open In Colab\"/></a>"
      ]
    },
    {
      "cell_type": "markdown",
      "metadata": {
        "id": "_vvaQTPiWGV7"
      },
      "source": [
        "# Data Preperation\r\n",
        "\r\n",
        "Our goal in this project is to identify groceries in a picture of fridge\r\n",
        "and suggest to the user what groceries he is lacking.\r\n",
        "\r\n",
        "In this notebook we will attempt to build a model that can recognize groceries in images. We combine a few data sets in order to train our model.\r\n",
        "\r\n",
        "The first is the COCO image data set - https://cocodataset.org/#explore wich has 10 classes of food that we will use.\r\n",
        "\r\n",
        "Second is Freiburg Groceries Dataset - https://github.com/PhilJd/freiburg_groceries_dataset/blob/master/README.md which has 25 classes of groceries in supermarket shelfs.\r\n",
        "\r\n",
        "Another supermarket groceries dataset - https://github.com/eg4000/SKU110K_CVPR19 contains much images with much more objects and bounding boxes."
      ]
    },
    {
      "cell_type": "code",
      "metadata": {
        "colab": {
          "base_uri": "https://localhost:8080/"
        },
        "id": "dj514HuiD72g",
        "outputId": "e038cdd3-2552-43a5-a6d9-4477dedd2785"
      },
      "source": [
        "!pip install py7zr"
      ],
      "execution_count": 1,
      "outputs": [
        {
          "output_type": "stream",
          "text": [
            "Collecting py7zr\n",
            "\u001b[?25l  Downloading https://files.pythonhosted.org/packages/7b/29/a3899c1a0f4baca3ae75c9975bc345b7d6555eb45e2e8a00d08452ac5997/py7zr-0.11.1-py3-none-any.whl (63kB)\n",
            "\r\u001b[K     |█████▏                          | 10kB 13.5MB/s eta 0:00:01\r\u001b[K     |██████████▎                     | 20kB 8.7MB/s eta 0:00:01\r\u001b[K     |███████████████▌                | 30kB 7.4MB/s eta 0:00:01\r\u001b[K     |████████████████████▋           | 40kB 7.3MB/s eta 0:00:01\r\u001b[K     |█████████████████████████▊      | 51kB 4.3MB/s eta 0:00:01\r\u001b[K     |███████████████████████████████ | 61kB 5.0MB/s eta 0:00:01\r\u001b[K     |████████████████████████████████| 71kB 3.3MB/s \n",
            "\u001b[?25hCollecting texttable\n",
            "  Downloading https://files.pythonhosted.org/packages/06/f5/46201c428aebe0eecfa83df66bf3e6caa29659dbac5a56ddfd83cae0d4a4/texttable-1.6.3-py2.py3-none-any.whl\n",
            "Collecting pycryptodome\n",
            "\u001b[?25l  Downloading https://files.pythonhosted.org/packages/2b/6f/7e38d7c97fbbc3987539c804282c33f56b6b07381bf2390deead696440c5/pycryptodome-3.9.9-cp36-cp36m-manylinux1_x86_64.whl (13.7MB)\n",
            "\u001b[K     |████████████████████████████████| 13.7MB 315kB/s \n",
            "\u001b[?25hRequirement already satisfied: importlib-metadata; python_version < \"3.8\" in /usr/local/lib/python3.6/dist-packages (from py7zr) (3.3.0)\n",
            "Requirement already satisfied: zipp>=0.5 in /usr/local/lib/python3.6/dist-packages (from importlib-metadata; python_version < \"3.8\"->py7zr) (3.4.0)\n",
            "Requirement already satisfied: typing-extensions>=3.6.4; python_version < \"3.8\" in /usr/local/lib/python3.6/dist-packages (from importlib-metadata; python_version < \"3.8\"->py7zr) (3.7.4.3)\n",
            "Installing collected packages: texttable, pycryptodome, py7zr\n",
            "Successfully installed py7zr-0.11.1 pycryptodome-3.9.9 texttable-1.6.3\n"
          ],
          "name": "stdout"
        }
      ]
    },
    {
      "cell_type": "code",
      "metadata": {
        "id": "mnt0W2cDDaLg"
      },
      "source": [
        "import requests\r\n",
        "import os\r\n",
        "import py7zr\r\n",
        "\r\n",
        "FRIDGE_TRAIN = \"fridge/data_fridge/data_fridge/Train\"\r\n",
        "FRIDGE_TEST = \"fridge/data_fridge/data_fridge/Test\"\r\n",
        "\r\n",
        "\r\n",
        "if not os.path.isdir(\"fridge\"):\r\n",
        "  fridge_data = requests.get(\"https://drive.google.com/uc?export=download&id=1yXoDMSPodJb1xBprxplTWy9XwgJm9Mcl\")\r\n",
        "  with open(\"fridge.7z\", 'wb') as f:\r\n",
        "    f.write(fridge_data.content)\r\n",
        "  \r\n",
        "  zip = py7zr.SevenZipFile('fridge.7z', mode='r')\r\n",
        "  zip.extractall(\"fridge\")\r\n",
        "  zip.close()"
      ],
      "execution_count": 2,
      "outputs": []
    },
    {
      "cell_type": "code",
      "metadata": {
        "id": "cn27WckWGLE9"
      },
      "source": [
        "from PIL import Image\r\n",
        "import numpy as np\r\n",
        "from sklearn.utils import shuffle\r\n",
        "\r\n",
        "\r\n",
        "def generate_class_map(classes):\r\n",
        "  maps = {\r\n",
        "      \"id-name\": {},\r\n",
        "      \"name-id\": {}\r\n",
        "  }\r\n",
        "  for i in range(len(classes)):\r\n",
        "    maps[\"name-id\"][classes[i]] = i\r\n",
        "    maps[\"id-name\"][i] = classes[i]\r\n",
        "  \r\n",
        "  return maps\r\n",
        "\r\n",
        "def load_dataset(data_path):\r\n",
        "  data = []\r\n",
        "  labels = []\r\n",
        "  classes = os.listdir(data_path)\r\n",
        "  cls_map = generate_class_map(classes)\r\n",
        "  for cls in classes:\r\n",
        "    for img_path in os.listdir(data_path + \"/\" + cls):\r\n",
        "      img = Image.open(data_path + \"/\" + cls + \"/\" + img_path)\r\n",
        "      img = img.resize((224, 224))\r\n",
        "      data.append(np.array(img))\r\n",
        "      labels.append(cls_map[\"name-id\"][cls])\r\n",
        "\r\n",
        "  data = np.array(data)\r\n",
        "  labels = np.array(labels)\r\n",
        "  data, labels = shuffle(data, labels)\r\n",
        "\r\n",
        "  return data, labels, cls_map"
      ],
      "execution_count": 3,
      "outputs": []
    },
    {
      "cell_type": "markdown",
      "metadata": {
        "id": "giKCO6fUnUHI"
      },
      "source": [
        "# Data Exploration"
      ]
    },
    {
      "cell_type": "code",
      "metadata": {
        "id": "TZbf4izTluwB"
      },
      "source": [
        "train_data, train_labels, cls_map = load_dataset(FRIDGE_TRAIN)\r\n",
        "test_data, test_labels, _ = load_dataset(FRIDGE_TEST)"
      ],
      "execution_count": null,
      "outputs": []
    },
    {
      "cell_type": "code",
      "metadata": {
        "colab": {
          "base_uri": "https://localhost:8080/",
          "height": 691
        },
        "id": "wv05BmWZlwXR",
        "outputId": "398f3efc-29c5-4866-c517-50672164eaae"
      },
      "source": [
        "import matplotlib.pyplot as plt\r\n",
        "import seaborn as sns\r\n",
        "\r\n",
        "train_label_names = np.array([cls_map[\"id-name\"][id] for id in train_labels])\r\n",
        "test_label_names = np.array([cls_map[\"id-name\"][id] for id in test_labels])\r\n",
        "\r\n",
        "f = sns.displot(train_label_names)\r\n",
        "f.fig.set_figwidth(20)\r\n",
        "f.fig.set_figheight(10)"
      ],
      "execution_count": null,
      "outputs": [
        {
          "output_type": "display_data",
          "data": {
            "image/png": "[encoded data removed]",
            "text/plain": [
              "<Figure size 1440x720 with 1 Axes>"
            ]
          },
          "metadata": {
            "tags": [],
            "needs_background": "light"
          }
        }
      ]
    },
    {
      "cell_type": "markdown",
      "metadata": {
        "id": "t1n9_LQ7naYf"
      },
      "source": [
        "As we can see the data is very imbalanced, and in general we do not have many examples of even the more popular classes, to combat this we are going to apply data augmentation selectevly, in such a way that the less examples the class has, the more augmentations it will recieve."
      ]
    },
    {
      "cell_type": "markdown",
      "metadata": {
        "id": "OIZ1QHWlnWnA"
      },
      "source": [
        "# Model Evaluation"
      ]
    },
    {
      "cell_type": "code",
      "metadata": {
        "id": "WpHMbZ0kyBw6",
        "colab": {
          "base_uri": "https://localhost:8080/"
        },
        "outputId": "2825fe03-879a-429b-ece7-71a5143a51e0"
      },
      "source": [
        "!pip install wandb -qqq\n",
        "!wandb login\n",
        "import os\n",
        "os.environ['WANDB_CONSOLE'] = \"off\"\n",
        "os.environ['WANDB_SILENT'] = \"true\""
      ],
      "execution_count": 11,
      "outputs": [
        {
          "output_type": "stream",
          "text": [
            "\u001b[K     |████████████████████████████████| 1.8MB 4.3MB/s \n",
            "\u001b[K     |████████████████████████████████| 163kB 40.8MB/s \n",
            "\u001b[K     |████████████████████████████████| 102kB 10.8MB/s \n",
            "\u001b[K     |████████████████████████████████| 81kB 9.9MB/s \n",
            "\u001b[K     |████████████████████████████████| 133kB 32.6MB/s \n",
            "\u001b[K     |████████████████████████████████| 71kB 9.0MB/s \n",
            "\u001b[?25h  Building wheel for subprocess32 (setup.py) ... \u001b[?25l\u001b[?25hdone\n",
            "\u001b[34m\u001b[1mwandb\u001b[0m: You can find your API key in your browser here: https://wandb.ai/authorize\n",
            "\u001b[34m\u001b[1mwandb\u001b[0m: Paste an API key from your profile and hit enter: \n",
            "\u001b[34m\u001b[1mwandb\u001b[0m: Appending key for api.wandb.ai to your netrc file: /root/.netrc\n"
          ],
          "name": "stdout"
        }
      ]
    },
    {
      "cell_type": "code",
      "metadata": {
        "id": "ONylKL-oj8DN"
      },
      "source": [
        "import wandb\n",
        "from wandb.keras import WandbCallback\n",
        "from sklearn.model_selection import KFold\n",
        "from sklearn.metrics import accuracy_score, f1_score\n",
        "\n",
        "def calculate_scores(true_values, pred_values):\n",
        "  acc = accuracy_score(true_values, pred_values)\n",
        "  f1 = f1_score(true_values, pred_values, average='macro')\n",
        "\n",
        "  return [\n",
        "      (\"accuracy\", acc),\n",
        "      (\"f1 score\", f1)\n",
        "  ]\n",
        "\n",
        "def eval_classifier(name, model_gen,\n",
        "                    training_data, testing_data,\n",
        "                    config):\n",
        "  print(\"----------------------------------------\")\n",
        "  print(f\"evaluating {name} model\")\n",
        "  print(\"----------------------------------------\")\n",
        "\n",
        "  train_data, train_labels = training_data\n",
        "  test_data, test_labels = testing_data\n",
        "\n",
        "  kf = KFold(n_splits=10)\n",
        "  fold_num = 1\n",
        "\n",
        "  for train_index, val_index in kf.split(train_data):\n",
        "    x_train = train_data[train_index]\n",
        "    y_train = train_labels[train_index]\n",
        "\n",
        "    x_val = train_data[val_index]\n",
        "    y_val = train_labels[val_index]\n",
        "\n",
        "    wandb.init(\n",
        "        project=\"FridgeVision\",\n",
        "        group=name,\n",
        "        name=name + \"-fold-\" + str(fold_num),\n",
        "        config=config\n",
        "    )\n",
        "\n",
        "    model = model_gen()\n",
        "\n",
        "    model.fit(x_train, y_train,\n",
        "              batch_size=config['batch_size'], epochs=config['epochs'],\n",
        "              validation_data=(x_val, y_val),\n",
        "              callbacks=[WandbCallback()])\n",
        "\n",
        "    val_pred_probs = model.predict(x_val)\n",
        "    val_pred = np.argmax(val_pred_probs, axis=1)\n",
        "    val_scores = calculate_scores(y_val, val_pred)\n",
        "  \n",
        "    print(\"----------------------------------------\")\n",
        "    print(f\"validation results for fold number {fold_num}:\")\n",
        "    for metric, score in val_scores:\n",
        "      print(f\"  {metric}: {score}\")\n",
        "    print()\n",
        "\n",
        "    test_pred_probs = model.predict(test_data)\n",
        "    test_pred = np.argmax(test_pred_probs, axis=1)\n",
        "    test_scores = calculate_scores(test_labels, test_pred)\n",
        "\n",
        "    print(\"----------------------------------------\")\n",
        "    print(f\"test results for fold number {fold_num}:\")\n",
        "    for metric, score in test_scores:\n",
        "      print(f\"  {metric}: {score}\")\n",
        "    print()\n",
        "\n",
        "    wandb.log({\"validation \" + metric: score for (metric, scor) in val_scores}, commit=False)\n",
        "    wandb.log({\"test \" + metric: score for (metric, scor) in test_scores}, commit=False)\n",
        "    wandb.log({\"validation confusion matrix\": wandb.plot.confusion_matrix(val_pred, y_val, list(cls_map[\"id-name\"].values()))})\n",
        "    wandb.log({\"test confusion matrix\": wandb.plot.confusion_matrix(test_pred, test_labels, list(cls_map[\"id-name\"].values()))})\n",
        "    fold_num += 1\n",
        "        "
      ],
      "execution_count": 12,
      "outputs": []
    },
    {
      "cell_type": "markdown",
      "metadata": {
        "id": "t1xjIrLeoAYW"
      },
      "source": [
        "# Data Augmentation"
      ]
    },
    {
      "cell_type": "code",
      "metadata": {
        "id": "FoF4ARBBn_vm"
      },
      "source": [
        "import imgaug.augmenters as iaa\r\n",
        "import imgaug as ia\r\n",
        "from sklearn.utils import shuffle\r\n",
        "\r\n",
        "flip = iaa.Fliplr(1.0)\r\n",
        "\r\n",
        "rotate = iaa.Affine(rotate=(-45, 45), mode=\"edge\")\r\n",
        "\r\n",
        "trans = iaa.OneOf([\r\n",
        "    iaa.Affine(translate_percent={\"x\": (-0.2, 0.2)}, mode=\"edge\"),\r\n",
        "    iaa.Affine(translate_percent={\"y\": (-0.2, 0.2)}, mode=\"edge\")\r\n",
        "])\r\n",
        "\r\n",
        "huesat = iaa.AddToHueAndSaturation((-30, 30), per_channel=True)\r\n",
        "\r\n",
        "gamma = iaa.GammaContrast([0.5,2.0])\r\n",
        "\r\n",
        "noise = iaa.AdditiveGaussianNoise(scale=(0, 0.15*255), per_channel=True)\r\n",
        "\r\n",
        "blur = iaa.GaussianBlur(sigma=(0.0, 2.0))\r\n",
        "\r\n",
        "re_medium = iaa.KeepSizeByResize(iaa.Crop((100, 140), keep_size=False))\r\n",
        "re_large = iaa.KeepSizeByResize(iaa.Crop((160, 200), keep_size=False))\r\n",
        "\r\n",
        "\r\n",
        "\r\n",
        "def apply_aug(data, labels, augs):\r\n",
        "  cps = [np.copy(data) for i in range(len(augs))]\r\n",
        "  aug_data = np.concatenate([augs[i](images=cps[i]) for i in range(len(augs))])\r\n",
        "  aug_labels = np.concatenate([labels for i in range(len(augs))])\r\n",
        "  return aug_data, aug_labels\r\n",
        "\r\n",
        "def augment_by_dist(data, labels):\r\n",
        "  classes, class_counts = np.unique(labels, return_counts=True)\r\n",
        "  min_count = class_counts.min()\r\n",
        "  max_count = class_counts.max()\r\n",
        "\r\n",
        "  jmp = (max_count - min_count) / 3 \r\n",
        "  lower_filter = min_count + jmp\r\n",
        "  mid_filter = min_count + 2*jmp\r\n",
        "\r\n",
        "  aug_data = data\r\n",
        "  aug_labels = labels\r\n",
        "\r\n",
        "  for cls in classes:\r\n",
        "    cls_labels = labels == cls\r\n",
        "    count_cls_labels = len(cls_labels)\r\n",
        "    cls_labels = labels[cls_labels]\r\n",
        "    cls_data = data[cls_labels]\r\n",
        "\r\n",
        "    aug_cls_data_4, aug_cls_labels_4 = apply_aug(cls_data, cls_labels, [re_medium, re_large])\r\n",
        "    aug_data = np.concatenate((aug_data, aug_cls_data_4))\r\n",
        "    aug_labels = np.concatenate((aug_labels, aug_cls_labels_4))\r\n",
        "\r\n",
        "    if count_cls_labels > lower_filter:\r\n",
        "      aug_cls_data_6, aug_cls_labels_6 = apply_aug(cls_data, cls_labels, [flip, rotate, trans])\r\n",
        "      aug_data = np.concatenate((aug_data, aug_cls_data_6))\r\n",
        "      aug_labels = np.concatenate((aug_labels, aug_cls_labels_6))\r\n",
        "\r\n",
        "    if count_cls_labels > mid_filter:\r\n",
        "      aug_cls_data_8, aug_cls_labels_8 = apply_aug(cls_data, cls_labels, [huesat, gamma, noise, blur])\r\n",
        "      aug_data = np.concatenate((aug_data, aug_cls_data_8))\r\n",
        "      aug_labels = np.concatenate((aug_labels, aug_cls_labels_8))\r\n",
        "\r\n",
        "  return shuffle(aug_data, aug_labels)"
      ],
      "execution_count": 4,
      "outputs": []
    },
    {
      "cell_type": "markdown",
      "metadata": {
        "id": "8HrsNjlkn8Uf"
      },
      "source": [
        "# EfficientNetB0"
      ]
    },
    {
      "cell_type": "code",
      "metadata": {
        "id": "btQp2Hv34elQ"
      },
      "source": [
        "train_data, train_labels, cls_map = load_dataset(FRIDGE_TRAIN)\n",
        "test_data, test_labels, _ = load_dataset(FRIDGE_TEST)"
      ],
      "execution_count": 5,
      "outputs": []
    },
    {
      "cell_type": "code",
      "metadata": {
        "colab": {
          "base_uri": "https://localhost:8080/"
        },
        "id": "0LWdwbeXDbTy",
        "outputId": "e0f7041e-da6b-4daf-c29f-d606dd2cf15a"
      },
      "source": [
        "import tensorflow as tf\r\n",
        "from tensorflow import keras\r\n",
        "from keras import layers\r\n",
        "from tensorflow.keras.applications import EfficientNetB0, efficientnet\r\n",
        "\r\n",
        "effnet_config = {\r\n",
        "    \"optimizer\": 'adam',\r\n",
        "    \"loss\": 'sparse_categorical_crossentropy',\r\n",
        "    \"effnet_scale\": 'b0',\r\n",
        "    \"batch_size\": 10,\r\n",
        "    \"epochs\": 5\r\n",
        "}\r\n",
        "\r\n",
        "def effnet_gen():\r\n",
        "  core = EfficientNetB0(include_top=False, input_shape=(224,224,3))\r\n",
        "\r\n",
        "  core.trainable = False\r\n",
        "\r\n",
        "  input = keras.Input(shape=(None, None, 3))\r\n",
        "  x = layers.experimental.preprocessing.Resizing(224, 224)(input)\r\n",
        "\r\n",
        "  x = core(x, training=False)\r\n",
        "  x = layers.GlobalAveragePooling2D(name=\"avg_pool\")(x)\r\n",
        "  x = layers.BatchNormalization()(x)\r\n",
        "  x = layers.Dropout(0.5)(x)\r\n",
        "  outputs = layers.Dense(25, activation=\"softmax\")(x)\r\n",
        "  model = tf.keras.Model(input, outputs, name=\"EfficientNet\")\r\n",
        "  model.compile(optimizer=effnet_config[\"optimizer\"], loss=effnet_config[\"loss\"], metrics=['accuracy'])\r\n",
        "  return model\r\n",
        "\r\n",
        "effnet_gen().summary()"
      ],
      "execution_count": 9,
      "outputs": [
        {
          "output_type": "stream",
          "text": [
            "Downloading data from https://storage.googleapis.com/keras-applications/efficientnetb0_notop.h5\n",
            "16711680/16705208 [==============================] - 0s 0us/step\n",
            "Model: \"EfficientNet\"\n",
            "_________________________________________________________________\n",
            "Layer (type)                 Output Shape              Param #   \n",
            "=================================================================\n",
            "input_2 (InputLayer)         [(None, None, None, 3)]   0         \n",
            "_________________________________________________________________\n",
            "resizing (Resizing)          (None, 224, 224, 3)       0         \n",
            "_________________________________________________________________\n",
            "efficientnetb0 (Functional)  (None, 7, 7, 1280)        4049571   \n",
            "_________________________________________________________________\n",
            "avg_pool (GlobalAveragePooli (None, 1280)              0         \n",
            "_________________________________________________________________\n",
            "batch_normalization (BatchNo (None, 1280)              5120      \n",
            "_________________________________________________________________\n",
            "dropout (Dropout)            (None, 1280)              0         \n",
            "_________________________________________________________________\n",
            "dense (Dense)                (None, 25)                32025     \n",
            "=================================================================\n",
            "Total params: 4,086,716\n",
            "Trainable params: 34,585\n",
            "Non-trainable params: 4,052,131\n",
            "_________________________________________________________________\n"
          ],
          "name": "stdout"
        }
      ]
    },
    {
      "cell_type": "markdown",
      "metadata": {
        "id": "it8VAeQ8dg8p"
      },
      "source": [
        "## Without Augmentation"
      ]
    },
    {
      "cell_type": "code",
      "metadata": {
        "id": "C1tNoBsdUCwx"
      },
      "source": [
        "train_data = efficientnet.preprocess_input(train_data)\r\n",
        "test_data = efficientnet.preprocess_input(test_data)\r\n",
        "eval_classifier(\"effnet\", effnet_gen,\r\n",
        "                (train_data, train_labels),\r\n",
        "                (test_data, test_labels),\r\n",
        "                effnet_config)"
      ],
      "execution_count": null,
      "outputs": []
    },
    {
      "cell_type": "markdown",
      "metadata": {
        "id": "VpeKCCcndpLO"
      },
      "source": [
        "## With Augmentation"
      ]
    },
    {
      "cell_type": "code",
      "metadata": {
        "colab": {
          "base_uri": "https://localhost:8080/",
          "height": 425
        },
        "id": "WG32oAvGdxpe",
        "outputId": "db0a79f4-64fc-4a23-8179-774b2c5a7d08"
      },
      "source": [
        "effnet_aug_config = {\r\n",
        "    \"optimizer\": 'adam',\r\n",
        "    \"loss\": 'sparse_categorical_crossentropy',\r\n",
        "    \"effnet_scale\": 'b0',\r\n",
        "    \"batch_size\": 100,\r\n",
        "    \"epochs\": 20\r\n",
        "}\r\n",
        "\r\n",
        "train_data_aug, train_labels_aug = augment_by_dist(train_data, train_labels)\r\n",
        "train_data_aug = efficientnet.preprocess_input(train_data_aug)\r\n",
        "test_data = efficientnet.preprocess_input(test_data)\r\n",
        "eval_classifier(\"effnet-aug\", effnet_gen,\r\n",
        "                (train_data_aug, train_labels_aug),\r\n",
        "                (test_data, test_labels),\r\n",
        "                effnet_aug_config)"
      ],
      "execution_count": 13,
      "outputs": [
        {
          "output_type": "stream",
          "text": [
            "----------------------------------------\n",
            "evaluating effnet-aug model\n",
            "----------------------------------------\n",
            "Epoch 1/20\n",
            "  6/187 [..............................] - ETA: 17:25 - loss: 4.3171 - accuracy: 0.0829"
          ],
          "name": "stdout"
        },
        {
          "output_type": "error",
          "ename": "KeyboardInterrupt",
          "evalue": "ignored",
          "traceback": [
            "\u001b[0;31m---------------------------------------------------------------------------\u001b[0m",
            "\u001b[0;31mKeyboardInterrupt\u001b[0m                         Traceback (most recent call last)",
            "\u001b[0;32m<ipython-input-13-2922c5f3a03d>\u001b[0m in \u001b[0;36m<module>\u001b[0;34m()\u001b[0m\n\u001b[1;32m     13\u001b[0m                 \u001b[0;34m(\u001b[0m\u001b[0mtrain_data_aug\u001b[0m\u001b[0;34m,\u001b[0m \u001b[0mtrain_labels_aug\u001b[0m\u001b[0;34m)\u001b[0m\u001b[0;34m,\u001b[0m\u001b[0;34m\u001b[0m\u001b[0;34m\u001b[0m\u001b[0m\n\u001b[1;32m     14\u001b[0m                 \u001b[0;34m(\u001b[0m\u001b[0mtest_data\u001b[0m\u001b[0;34m,\u001b[0m \u001b[0mtest_labels\u001b[0m\u001b[0;34m)\u001b[0m\u001b[0;34m,\u001b[0m\u001b[0;34m\u001b[0m\u001b[0;34m\u001b[0m\u001b[0m\n\u001b[0;32m---> 15\u001b[0;31m                 effnet_aug_config)\n\u001b[0m",
            "\u001b[0;32m<ipython-input-12-7d990e13fa81>\u001b[0m in \u001b[0;36meval_classifier\u001b[0;34m(name, model_gen, training_data, testing_data, config)\u001b[0m\n\u001b[1;32m     45\u001b[0m               \u001b[0mbatch_size\u001b[0m\u001b[0;34m=\u001b[0m\u001b[0mconfig\u001b[0m\u001b[0;34m[\u001b[0m\u001b[0;34m'batch_size'\u001b[0m\u001b[0;34m]\u001b[0m\u001b[0;34m,\u001b[0m \u001b[0mepochs\u001b[0m\u001b[0;34m=\u001b[0m\u001b[0mconfig\u001b[0m\u001b[0;34m[\u001b[0m\u001b[0;34m'epochs'\u001b[0m\u001b[0;34m]\u001b[0m\u001b[0;34m,\u001b[0m\u001b[0;34m\u001b[0m\u001b[0;34m\u001b[0m\u001b[0m\n\u001b[1;32m     46\u001b[0m               \u001b[0mvalidation_data\u001b[0m\u001b[0;34m=\u001b[0m\u001b[0;34m(\u001b[0m\u001b[0mx_val\u001b[0m\u001b[0;34m,\u001b[0m \u001b[0my_val\u001b[0m\u001b[0;34m)\u001b[0m\u001b[0;34m,\u001b[0m\u001b[0;34m\u001b[0m\u001b[0;34m\u001b[0m\u001b[0m\n\u001b[0;32m---> 47\u001b[0;31m               callbacks=[WandbCallback()])\n\u001b[0m\u001b[1;32m     48\u001b[0m \u001b[0;34m\u001b[0m\u001b[0m\n\u001b[1;32m     49\u001b[0m     \u001b[0mval_pred_probs\u001b[0m \u001b[0;34m=\u001b[0m \u001b[0mmodel\u001b[0m\u001b[0;34m.\u001b[0m\u001b[0mpredict\u001b[0m\u001b[0;34m(\u001b[0m\u001b[0mx_val\u001b[0m\u001b[0;34m)\u001b[0m\u001b[0;34m\u001b[0m\u001b[0;34m\u001b[0m\u001b[0m\n",
            "\u001b[0;32m/usr/local/lib/python3.6/dist-packages/wandb/integration/keras/keras.py\u001b[0m in \u001b[0;36mnew_v2\u001b[0;34m(*args, **kwargs)\u001b[0m\n\u001b[1;32m    117\u001b[0m             \u001b[0;32mfor\u001b[0m \u001b[0mcbk\u001b[0m \u001b[0;32min\u001b[0m \u001b[0mcbks\u001b[0m\u001b[0;34m:\u001b[0m\u001b[0;34m\u001b[0m\u001b[0;34m\u001b[0m\u001b[0m\n\u001b[1;32m    118\u001b[0m                 \u001b[0mset_wandb_attrs\u001b[0m\u001b[0;34m(\u001b[0m\u001b[0mcbk\u001b[0m\u001b[0;34m,\u001b[0m \u001b[0mval_data\u001b[0m\u001b[0;34m)\u001b[0m\u001b[0;34m\u001b[0m\u001b[0;34m\u001b[0m\u001b[0m\n\u001b[0;32m--> 119\u001b[0;31m         \u001b[0;32mreturn\u001b[0m \u001b[0mold_v2\u001b[0m\u001b[0;34m(\u001b[0m\u001b[0;34m*\u001b[0m\u001b[0margs\u001b[0m\u001b[0;34m,\u001b[0m \u001b[0;34m**\u001b[0m\u001b[0mkwargs\u001b[0m\u001b[0;34m)\u001b[0m\u001b[0;34m\u001b[0m\u001b[0;34m\u001b[0m\u001b[0m\n\u001b[0m\u001b[1;32m    120\u001b[0m \u001b[0;34m\u001b[0m\u001b[0m\n\u001b[1;32m    121\u001b[0m     \u001b[0mtraining_arrays\u001b[0m\u001b[0;34m.\u001b[0m\u001b[0morig_fit_loop\u001b[0m \u001b[0;34m=\u001b[0m \u001b[0mold_arrays\u001b[0m\u001b[0;34m\u001b[0m\u001b[0;34m\u001b[0m\u001b[0m\n",
            "\u001b[0;32m/usr/local/lib/python3.6/dist-packages/tensorflow/python/keras/engine/training.py\u001b[0m in \u001b[0;36mfit\u001b[0;34m(self, x, y, batch_size, epochs, verbose, callbacks, validation_split, validation_data, shuffle, class_weight, sample_weight, initial_epoch, steps_per_epoch, validation_steps, validation_batch_size, validation_freq, max_queue_size, workers, use_multiprocessing)\u001b[0m\n\u001b[1;32m   1098\u001b[0m                 _r=1):\n\u001b[1;32m   1099\u001b[0m               \u001b[0mcallbacks\u001b[0m\u001b[0;34m.\u001b[0m\u001b[0mon_train_batch_begin\u001b[0m\u001b[0;34m(\u001b[0m\u001b[0mstep\u001b[0m\u001b[0;34m)\u001b[0m\u001b[0;34m\u001b[0m\u001b[0;34m\u001b[0m\u001b[0m\n\u001b[0;32m-> 1100\u001b[0;31m               \u001b[0mtmp_logs\u001b[0m \u001b[0;34m=\u001b[0m \u001b[0mself\u001b[0m\u001b[0;34m.\u001b[0m\u001b[0mtrain_function\u001b[0m\u001b[0;34m(\u001b[0m\u001b[0miterator\u001b[0m\u001b[0;34m)\u001b[0m\u001b[0;34m\u001b[0m\u001b[0;34m\u001b[0m\u001b[0m\n\u001b[0m\u001b[1;32m   1101\u001b[0m               \u001b[0;32mif\u001b[0m \u001b[0mdata_handler\u001b[0m\u001b[0;34m.\u001b[0m\u001b[0mshould_sync\u001b[0m\u001b[0;34m:\u001b[0m\u001b[0;34m\u001b[0m\u001b[0;34m\u001b[0m\u001b[0m\n\u001b[1;32m   1102\u001b[0m                 \u001b[0mcontext\u001b[0m\u001b[0;34m.\u001b[0m\u001b[0masync_wait\u001b[0m\u001b[0;34m(\u001b[0m\u001b[0;34m)\u001b[0m\u001b[0;34m\u001b[0m\u001b[0;34m\u001b[0m\u001b[0m\n",
            "\u001b[0;32m/usr/local/lib/python3.6/dist-packages/tensorflow/python/eager/def_function.py\u001b[0m in \u001b[0;36m__call__\u001b[0;34m(self, *args, **kwds)\u001b[0m\n\u001b[1;32m    826\u001b[0m     \u001b[0mtracing_count\u001b[0m \u001b[0;34m=\u001b[0m \u001b[0mself\u001b[0m\u001b[0;34m.\u001b[0m\u001b[0mexperimental_get_tracing_count\u001b[0m\u001b[0;34m(\u001b[0m\u001b[0;34m)\u001b[0m\u001b[0;34m\u001b[0m\u001b[0;34m\u001b[0m\u001b[0m\n\u001b[1;32m    827\u001b[0m     \u001b[0;32mwith\u001b[0m \u001b[0mtrace\u001b[0m\u001b[0;34m.\u001b[0m\u001b[0mTrace\u001b[0m\u001b[0;34m(\u001b[0m\u001b[0mself\u001b[0m\u001b[0;34m.\u001b[0m\u001b[0m_name\u001b[0m\u001b[0;34m)\u001b[0m \u001b[0;32mas\u001b[0m \u001b[0mtm\u001b[0m\u001b[0;34m:\u001b[0m\u001b[0;34m\u001b[0m\u001b[0;34m\u001b[0m\u001b[0m\n\u001b[0;32m--> 828\u001b[0;31m       \u001b[0mresult\u001b[0m \u001b[0;34m=\u001b[0m \u001b[0mself\u001b[0m\u001b[0;34m.\u001b[0m\u001b[0m_call\u001b[0m\u001b[0;34m(\u001b[0m\u001b[0;34m*\u001b[0m\u001b[0margs\u001b[0m\u001b[0;34m,\u001b[0m \u001b[0;34m**\u001b[0m\u001b[0mkwds\u001b[0m\u001b[0;34m)\u001b[0m\u001b[0;34m\u001b[0m\u001b[0;34m\u001b[0m\u001b[0m\n\u001b[0m\u001b[1;32m    829\u001b[0m       \u001b[0mcompiler\u001b[0m \u001b[0;34m=\u001b[0m \u001b[0;34m\"xla\"\u001b[0m \u001b[0;32mif\u001b[0m \u001b[0mself\u001b[0m\u001b[0;34m.\u001b[0m\u001b[0m_experimental_compile\u001b[0m \u001b[0;32melse\u001b[0m \u001b[0;34m\"nonXla\"\u001b[0m\u001b[0;34m\u001b[0m\u001b[0;34m\u001b[0m\u001b[0m\n\u001b[1;32m    830\u001b[0m       \u001b[0mnew_tracing_count\u001b[0m \u001b[0;34m=\u001b[0m \u001b[0mself\u001b[0m\u001b[0;34m.\u001b[0m\u001b[0mexperimental_get_tracing_count\u001b[0m\u001b[0;34m(\u001b[0m\u001b[0;34m)\u001b[0m\u001b[0;34m\u001b[0m\u001b[0;34m\u001b[0m\u001b[0m\n",
            "\u001b[0;32m/usr/local/lib/python3.6/dist-packages/tensorflow/python/eager/def_function.py\u001b[0m in \u001b[0;36m_call\u001b[0;34m(self, *args, **kwds)\u001b[0m\n\u001b[1;32m    853\u001b[0m       \u001b[0;31m# In this case we have created variables on the first call, so we run the\u001b[0m\u001b[0;34m\u001b[0m\u001b[0;34m\u001b[0m\u001b[0;34m\u001b[0m\u001b[0m\n\u001b[1;32m    854\u001b[0m       \u001b[0;31m# defunned version which is guaranteed to never create variables.\u001b[0m\u001b[0;34m\u001b[0m\u001b[0;34m\u001b[0m\u001b[0;34m\u001b[0m\u001b[0m\n\u001b[0;32m--> 855\u001b[0;31m       \u001b[0;32mreturn\u001b[0m \u001b[0mself\u001b[0m\u001b[0;34m.\u001b[0m\u001b[0m_stateless_fn\u001b[0m\u001b[0;34m(\u001b[0m\u001b[0;34m*\u001b[0m\u001b[0margs\u001b[0m\u001b[0;34m,\u001b[0m \u001b[0;34m**\u001b[0m\u001b[0mkwds\u001b[0m\u001b[0;34m)\u001b[0m  \u001b[0;31m# pylint: disable=not-callable\u001b[0m\u001b[0;34m\u001b[0m\u001b[0;34m\u001b[0m\u001b[0m\n\u001b[0m\u001b[1;32m    856\u001b[0m     \u001b[0;32melif\u001b[0m \u001b[0mself\u001b[0m\u001b[0;34m.\u001b[0m\u001b[0m_stateful_fn\u001b[0m \u001b[0;32mis\u001b[0m \u001b[0;32mnot\u001b[0m \u001b[0;32mNone\u001b[0m\u001b[0;34m:\u001b[0m\u001b[0;34m\u001b[0m\u001b[0;34m\u001b[0m\u001b[0m\n\u001b[1;32m    857\u001b[0m       \u001b[0;31m# Release the lock early so that multiple threads can perform the call\u001b[0m\u001b[0;34m\u001b[0m\u001b[0;34m\u001b[0m\u001b[0;34m\u001b[0m\u001b[0m\n",
            "\u001b[0;32m/usr/local/lib/python3.6/dist-packages/tensorflow/python/eager/function.py\u001b[0m in \u001b[0;36m__call__\u001b[0;34m(self, *args, **kwargs)\u001b[0m\n\u001b[1;32m   2941\u001b[0m        filtered_flat_args) = self._maybe_define_function(args, kwargs)\n\u001b[1;32m   2942\u001b[0m     return graph_function._call_flat(\n\u001b[0;32m-> 2943\u001b[0;31m         filtered_flat_args, captured_inputs=graph_function.captured_inputs)  # pylint: disable=protected-access\n\u001b[0m\u001b[1;32m   2944\u001b[0m \u001b[0;34m\u001b[0m\u001b[0m\n\u001b[1;32m   2945\u001b[0m   \u001b[0;34m@\u001b[0m\u001b[0mproperty\u001b[0m\u001b[0;34m\u001b[0m\u001b[0;34m\u001b[0m\u001b[0m\n",
            "\u001b[0;32m/usr/local/lib/python3.6/dist-packages/tensorflow/python/eager/function.py\u001b[0m in \u001b[0;36m_call_flat\u001b[0;34m(self, args, captured_inputs, cancellation_manager)\u001b[0m\n\u001b[1;32m   1917\u001b[0m       \u001b[0;31m# No tape is watching; skip to running the function.\u001b[0m\u001b[0;34m\u001b[0m\u001b[0;34m\u001b[0m\u001b[0;34m\u001b[0m\u001b[0m\n\u001b[1;32m   1918\u001b[0m       return self._build_call_outputs(self._inference_function.call(\n\u001b[0;32m-> 1919\u001b[0;31m           ctx, args, cancellation_manager=cancellation_manager))\n\u001b[0m\u001b[1;32m   1920\u001b[0m     forward_backward = self._select_forward_and_backward_functions(\n\u001b[1;32m   1921\u001b[0m         \u001b[0margs\u001b[0m\u001b[0;34m,\u001b[0m\u001b[0;34m\u001b[0m\u001b[0;34m\u001b[0m\u001b[0m\n",
            "\u001b[0;32m/usr/local/lib/python3.6/dist-packages/tensorflow/python/eager/function.py\u001b[0m in \u001b[0;36mcall\u001b[0;34m(self, ctx, args, cancellation_manager)\u001b[0m\n\u001b[1;32m    558\u001b[0m               \u001b[0minputs\u001b[0m\u001b[0;34m=\u001b[0m\u001b[0margs\u001b[0m\u001b[0;34m,\u001b[0m\u001b[0;34m\u001b[0m\u001b[0;34m\u001b[0m\u001b[0m\n\u001b[1;32m    559\u001b[0m               \u001b[0mattrs\u001b[0m\u001b[0;34m=\u001b[0m\u001b[0mattrs\u001b[0m\u001b[0;34m,\u001b[0m\u001b[0;34m\u001b[0m\u001b[0;34m\u001b[0m\u001b[0m\n\u001b[0;32m--> 560\u001b[0;31m               ctx=ctx)\n\u001b[0m\u001b[1;32m    561\u001b[0m         \u001b[0;32melse\u001b[0m\u001b[0;34m:\u001b[0m\u001b[0;34m\u001b[0m\u001b[0;34m\u001b[0m\u001b[0m\n\u001b[1;32m    562\u001b[0m           outputs = execute.execute_with_cancellation(\n",
            "\u001b[0;32m/usr/local/lib/python3.6/dist-packages/tensorflow/python/eager/execute.py\u001b[0m in \u001b[0;36mquick_execute\u001b[0;34m(op_name, num_outputs, inputs, attrs, ctx, name)\u001b[0m\n\u001b[1;32m     58\u001b[0m     \u001b[0mctx\u001b[0m\u001b[0;34m.\u001b[0m\u001b[0mensure_initialized\u001b[0m\u001b[0;34m(\u001b[0m\u001b[0;34m)\u001b[0m\u001b[0;34m\u001b[0m\u001b[0;34m\u001b[0m\u001b[0m\n\u001b[1;32m     59\u001b[0m     tensors = pywrap_tfe.TFE_Py_Execute(ctx._handle, device_name, op_name,\n\u001b[0;32m---> 60\u001b[0;31m                                         inputs, attrs, num_outputs)\n\u001b[0m\u001b[1;32m     61\u001b[0m   \u001b[0;32mexcept\u001b[0m \u001b[0mcore\u001b[0m\u001b[0;34m.\u001b[0m\u001b[0m_NotOkStatusException\u001b[0m \u001b[0;32mas\u001b[0m \u001b[0me\u001b[0m\u001b[0;34m:\u001b[0m\u001b[0;34m\u001b[0m\u001b[0;34m\u001b[0m\u001b[0m\n\u001b[1;32m     62\u001b[0m     \u001b[0;32mif\u001b[0m \u001b[0mname\u001b[0m \u001b[0;32mis\u001b[0m \u001b[0;32mnot\u001b[0m \u001b[0;32mNone\u001b[0m\u001b[0;34m:\u001b[0m\u001b[0;34m\u001b[0m\u001b[0;34m\u001b[0m\u001b[0m\n",
            "\u001b[0;31mKeyboardInterrupt\u001b[0m: "
          ]
        }
      ]
    },
    {
      "cell_type": "markdown",
      "metadata": {
        "id": "wrE6xSrhMaXo"
      },
      "source": [
        "# EfficientNetB3"
      ]
    },
    {
      "cell_type": "code",
      "metadata": {
        "id": "nCNEEiBBOg7H"
      },
      "source": [
        "train_data, train_labels, cls_map = load_dataset(FRIDGE_TRAIN)\r\n",
        "test_data, test_labels, _ = load_dataset(FRIDGE_TEST)"
      ],
      "execution_count": null,
      "outputs": []
    },
    {
      "cell_type": "code",
      "metadata": {
        "colab": {
          "base_uri": "https://localhost:8080/"
        },
        "id": "Q1S1nrJsMZzh",
        "outputId": "908354d2-b201-4a5c-ef25-00b613bafb2b"
      },
      "source": [
        "import tensorflow as tf\r\n",
        "from tensorflow import keras\r\n",
        "from keras import layers\r\n",
        "from tensorflow.keras.applications import EfficientNetB3, efficientnet\r\n",
        "\r\n",
        "effnetb3_config = {\r\n",
        "    \"optimizer\": 'adam',\r\n",
        "    \"loss\": 'sparse_categorical_crossentropy',\r\n",
        "    \"effnet_scale\": 'b3',\r\n",
        "    \"batch_size\": 10,\r\n",
        "    \"epochs\": 5\r\n",
        "}\r\n",
        "\r\n",
        "def effnetb3_gen():\r\n",
        "  core = EfficientNetB3(include_top=False, input_shape=(224,224,3))\r\n",
        "\r\n",
        "  core.trainable = False\r\n",
        "\r\n",
        "  input = keras.Input(shape=(None, None, 3))\r\n",
        "  x = layers.experimental.preprocessing.Resizing(224, 224)(input)\r\n",
        "\r\n",
        "  x = core(x, training=False)\r\n",
        "  x = layers.GlobalAveragePooling2D(name=\"avg_pool\")(x)\r\n",
        "  x = layers.BatchNormalization()(x)\r\n",
        "  x = layers.Dropout(0.5)(x)\r\n",
        "  outputs = layers.Dense(25, activation=\"softmax\")(x)\r\n",
        "  model = tf.keras.Model(input, outputs, name=\"EfficientNetB3\")\r\n",
        "  model.compile(optimizer=effnetb3_config[\"optimizer\"], loss=effnetb3_config[\"loss\"], metrics=['accuracy'])\r\n",
        "  return model\r\n",
        "\r\n",
        "effnetb3_gen().summary()"
      ],
      "execution_count": 8,
      "outputs": [
        {
          "output_type": "stream",
          "text": [
            "Model: \"EfficientNetB3\"\n",
            "_________________________________________________________________\n",
            "Layer (type)                 Output Shape              Param #   \n",
            "=================================================================\n",
            "input_4 (InputLayer)         [(None, None, None, 3)]   0         \n",
            "_________________________________________________________________\n",
            "resizing_1 (Resizing)        (None, 224, 224, 3)       0         \n",
            "_________________________________________________________________\n",
            "efficientnetb3 (Functional)  (None, 7, 7, 1536)        10783535  \n",
            "_________________________________________________________________\n",
            "avg_pool (GlobalAveragePooli (None, 1536)              0         \n",
            "_________________________________________________________________\n",
            "batch_normalization_1 (Batch (None, 1536)              6144      \n",
            "_________________________________________________________________\n",
            "dropout_1 (Dropout)          (None, 1536)              0         \n",
            "_________________________________________________________________\n",
            "dense_1 (Dense)              (None, 25)                38425     \n",
            "=================================================================\n",
            "Total params: 10,828,104\n",
            "Trainable params: 41,497\n",
            "Non-trainable params: 10,786,607\n",
            "_________________________________________________________________\n"
          ],
          "name": "stdout"
        }
      ]
    },
    {
      "cell_type": "markdown",
      "metadata": {
        "id": "xoP4-bf2OQkn"
      },
      "source": [
        "## Without Augmentation"
      ]
    },
    {
      "cell_type": "code",
      "metadata": {
        "id": "vPViPhGFOeU8"
      },
      "source": [
        "train_data = efficientnet.preprocess_input(train_data)\r\n",
        "test_data = efficientnet.preprocess_input(test_data)\r\n",
        "eval_classifier(\"effnetb3\", effnet_gen,\r\n",
        "                (train_data, train_labels),\r\n",
        "                (test_data, test_labels),\r\n",
        "                effnet_config)"
      ],
      "execution_count": null,
      "outputs": []
    },
    {
      "cell_type": "markdown",
      "metadata": {
        "id": "GYiQwqT3OUxv"
      },
      "source": [
        "## With Augmentation"
      ]
    },
    {
      "cell_type": "code",
      "metadata": {
        "id": "YTy-AvQlOtdf"
      },
      "source": [
        "effnet_aug_config = {\r\n",
        "    \"optimizer\": 'adam',\r\n",
        "    \"loss\": 'sparse_categorical_crossentropy',\r\n",
        "    \"effnet_scale\": 'b0',\r\n",
        "    \"batch_size\": 100,\r\n",
        "    \"epochs\": 20\r\n",
        "}\r\n",
        "\r\n",
        "train_data_aug, train_labels_aug = augment_by_dist(train_data, train_labels)\r\n",
        "train_data_aug = efficientnet.preprocess_input(train_data_aug)\r\n",
        "test_data = efficientnet.preprocess_input(test_data)\r\n",
        "eval_classifier(\"effnet-aug\", effnet_gen,\r\n",
        "                (train_data_aug, train_labels_aug),\r\n",
        "                (test_data, test_labels),\r\n",
        "                effnet_aug_config)"
      ],
      "execution_count": null,
      "outputs": []
    },
    {
      "cell_type": "markdown",
      "metadata": {
        "id": "q5vYoo1CdsvG"
      },
      "source": [
        "# Testing"
      ]
    },
    {
      "cell_type": "code",
      "metadata": {
        "colab": {
          "base_uri": "https://localhost:8080/",
          "height": 520
        },
        "id": "Zg01a0S1z6Hk",
        "outputId": "a8a1d97f-7868-4bcb-a057-a78303c33d33"
      },
      "source": [
        "_, _ = augment_by_dist(train_data, train_labels)"
      ],
      "execution_count": null,
      "outputs": [
        {
          "output_type": "stream",
          "text": [
            "hey\n",
            "hey\n",
            "hey\n",
            "hey\n",
            "hey\n",
            "hey\n",
            "hey\n",
            "hey\n",
            "hey\n",
            "hey\n",
            "hey\n",
            "hey\n"
          ],
          "name": "stdout"
        },
        {
          "output_type": "error",
          "ename": "KeyboardInterrupt",
          "evalue": "ignored",
          "traceback": [
            "\u001b[0;31m---------------------------------------------------------------------------\u001b[0m",
            "\u001b[0;31mKeyboardInterrupt\u001b[0m                         Traceback (most recent call last)",
            "\u001b[0;32m<ipython-input-50-4577345954de>\u001b[0m in \u001b[0;36m<module>\u001b[0;34m()\u001b[0m\n\u001b[0;32m----> 1\u001b[0;31m \u001b[0m_\u001b[0m\u001b[0;34m,\u001b[0m \u001b[0m_\u001b[0m \u001b[0;34m=\u001b[0m \u001b[0maugment_by_dist\u001b[0m\u001b[0;34m(\u001b[0m\u001b[0mtrain_data\u001b[0m\u001b[0;34m,\u001b[0m \u001b[0mtrain_labels\u001b[0m\u001b[0;34m)\u001b[0m\u001b[0;34m\u001b[0m\u001b[0;34m\u001b[0m\u001b[0m\n\u001b[0m",
            "\u001b[0;32m<ipython-input-48-8a43f8f7b58a>\u001b[0m in \u001b[0;36maugment_by_dist\u001b[0;34m(data, labels)\u001b[0m\n\u001b[1;32m     51\u001b[0m \u001b[0;34m\u001b[0m\u001b[0m\n\u001b[1;32m     52\u001b[0m     \u001b[0maug_cls_data_4\u001b[0m\u001b[0;34m,\u001b[0m \u001b[0maug_cls_labels_4\u001b[0m \u001b[0;34m=\u001b[0m \u001b[0mapply_aug\u001b[0m\u001b[0;34m(\u001b[0m\u001b[0mcls_data\u001b[0m\u001b[0;34m,\u001b[0m \u001b[0mcls_labels\u001b[0m\u001b[0;34m,\u001b[0m \u001b[0;34m[\u001b[0m\u001b[0mre_small\u001b[0m\u001b[0;34m,\u001b[0m \u001b[0mre_medium\u001b[0m\u001b[0;34m,\u001b[0m \u001b[0mre_large\u001b[0m\u001b[0;34m]\u001b[0m\u001b[0;34m)\u001b[0m\u001b[0;34m\u001b[0m\u001b[0;34m\u001b[0m\u001b[0m\n\u001b[0;32m---> 53\u001b[0;31m     \u001b[0maug_data\u001b[0m \u001b[0;34m=\u001b[0m \u001b[0mnp\u001b[0m\u001b[0;34m.\u001b[0m\u001b[0mconcatenate\u001b[0m\u001b[0;34m(\u001b[0m\u001b[0;34m(\u001b[0m\u001b[0maug_data\u001b[0m\u001b[0;34m,\u001b[0m \u001b[0maug_cls_data_4\u001b[0m\u001b[0;34m)\u001b[0m\u001b[0;34m)\u001b[0m\u001b[0;34m\u001b[0m\u001b[0;34m\u001b[0m\u001b[0m\n\u001b[0m\u001b[1;32m     54\u001b[0m     \u001b[0maug_labels\u001b[0m \u001b[0;34m=\u001b[0m \u001b[0mnp\u001b[0m\u001b[0;34m.\u001b[0m\u001b[0mconcatenate\u001b[0m\u001b[0;34m(\u001b[0m\u001b[0;34m(\u001b[0m\u001b[0maug_labels\u001b[0m\u001b[0;34m,\u001b[0m \u001b[0maug_cls_labels_4\u001b[0m\u001b[0;34m)\u001b[0m\u001b[0;34m)\u001b[0m\u001b[0;34m\u001b[0m\u001b[0;34m\u001b[0m\u001b[0m\n\u001b[1;32m     55\u001b[0m \u001b[0;34m\u001b[0m\u001b[0m\n",
            "\u001b[0;32m<__array_function__ internals>\u001b[0m in \u001b[0;36mconcatenate\u001b[0;34m(*args, **kwargs)\u001b[0m\n",
            "\u001b[0;31mKeyboardInterrupt\u001b[0m: "
          ]
        }
      ]
    },
    {
      "cell_type": "code",
      "metadata": {
        "colab": {
          "base_uri": "https://localhost:8080/"
        },
        "id": "2aL7awbwo6tI",
        "outputId": "3a15f7f2-d059-422c-ca97-8678608af6d8"
      },
      "source": [
        "model = model_gen()\r\n",
        "model.fit(train_data, train_labels, batch_size=20, epochs=20, validation_data=(test_data, test_labels))"
      ],
      "execution_count": null,
      "outputs": [
        {
          "output_type": "stream",
          "text": [
            "Epoch 1/20\n",
            "104/104 [==============================] - 12s 77ms/step - loss: 2.5172 - accuracy: 0.3851 - val_loss: 0.7968 - val_accuracy: 0.8321\n",
            "Epoch 2/20\n",
            "104/104 [==============================] - 7s 66ms/step - loss: 0.3884 - accuracy: 0.8769 - val_loss: 0.4465 - val_accuracy: 0.8752\n",
            "Epoch 3/20\n",
            "104/104 [==============================] - 7s 66ms/step - loss: 0.2030 - accuracy: 0.9234 - val_loss: 0.3396 - val_accuracy: 0.8934\n",
            "Epoch 4/20\n",
            "104/104 [==============================] - 7s 66ms/step - loss: 0.1468 - accuracy: 0.9532 - val_loss: 0.3108 - val_accuracy: 0.8934\n",
            "Epoch 5/20\n",
            "104/104 [==============================] - 7s 66ms/step - loss: 0.1290 - accuracy: 0.9562 - val_loss: 0.3056 - val_accuracy: 0.8979\n",
            "Epoch 6/20\n",
            "104/104 [==============================] - 7s 66ms/step - loss: 0.0855 - accuracy: 0.9735 - val_loss: 0.3016 - val_accuracy: 0.9053\n",
            "Epoch 7/20\n",
            "104/104 [==============================] - 7s 66ms/step - loss: 0.0776 - accuracy: 0.9712 - val_loss: 0.3044 - val_accuracy: 0.9019\n",
            "Epoch 8/20\n",
            "104/104 [==============================] - 7s 66ms/step - loss: 0.0660 - accuracy: 0.9779 - val_loss: 0.2963 - val_accuracy: 0.9036\n",
            "Epoch 9/20\n",
            "104/104 [==============================] - 7s 66ms/step - loss: 0.0771 - accuracy: 0.9734 - val_loss: 0.3161 - val_accuracy: 0.8973\n",
            "Epoch 10/20\n",
            "104/104 [==============================] - 7s 66ms/step - loss: 0.0558 - accuracy: 0.9772 - val_loss: 0.2868 - val_accuracy: 0.9087\n",
            "Epoch 11/20\n",
            "104/104 [==============================] - 7s 66ms/step - loss: 0.0464 - accuracy: 0.9859 - val_loss: 0.2861 - val_accuracy: 0.9098\n",
            "Epoch 12/20\n",
            "104/104 [==============================] - 7s 66ms/step - loss: 0.0358 - accuracy: 0.9927 - val_loss: 0.2908 - val_accuracy: 0.9109\n",
            "Epoch 13/20\n",
            "104/104 [==============================] - 7s 66ms/step - loss: 0.0417 - accuracy: 0.9845 - val_loss: 0.2859 - val_accuracy: 0.9144\n",
            "Epoch 14/20\n",
            "104/104 [==============================] - 7s 66ms/step - loss: 0.0336 - accuracy: 0.9913 - val_loss: 0.2987 - val_accuracy: 0.9081\n",
            "Epoch 15/20\n",
            "104/104 [==============================] - 7s 66ms/step - loss: 0.0258 - accuracy: 0.9948 - val_loss: 0.3002 - val_accuracy: 0.9075\n",
            "Epoch 16/20\n",
            "104/104 [==============================] - 7s 66ms/step - loss: 0.0395 - accuracy: 0.9866 - val_loss: 0.2819 - val_accuracy: 0.9161\n",
            "Epoch 17/20\n",
            "104/104 [==============================] - 7s 67ms/step - loss: 0.0406 - accuracy: 0.9873 - val_loss: 0.3118 - val_accuracy: 0.9070\n",
            "Epoch 18/20\n",
            "104/104 [==============================] - 7s 71ms/step - loss: 0.0471 - accuracy: 0.9869 - val_loss: 0.3387 - val_accuracy: 0.9092\n",
            "Epoch 19/20\n",
            "104/104 [==============================] - 7s 67ms/step - loss: 0.0352 - accuracy: 0.9856 - val_loss: 0.3472 - val_accuracy: 0.9047\n",
            "Epoch 20/20\n",
            "104/104 [==============================] - 7s 67ms/step - loss: 0.0335 - accuracy: 0.9859 - val_loss: 0.3428 - val_accuracy: 0.9144\n"
          ],
          "name": "stdout"
        },
        {
          "output_type": "execute_result",
          "data": {
            "text/plain": [
              "<tensorflow.python.keras.callbacks.History at 0x7f6f12885710>"
            ]
          },
          "metadata": {
            "tags": []
          },
          "execution_count": 17
        }
      ]
    },
    {
      "cell_type": "code",
      "metadata": {
        "id": "r6PG0Vir3pOq"
      },
      "source": [
        "test_label_names = [name_map[lbl_id] for lbl_id in testing_labels]"
      ],
      "execution_count": null,
      "outputs": []
    },
    {
      "cell_type": "code",
      "metadata": {
        "id": "j6mK_RNg4yT4"
      },
      "source": [
        "test_id = 0\r\n",
        "for i in range(len(testing_data)):\r\n",
        "  img = Image.fromarray(testing_data[i])\r\n",
        "  label = test_label_names[i]\r\n",
        "  img.save(\"test/\" + label + \"/\" + label + \"_\" + str(test_id) + \".jpg\")\r\n",
        "  test_id += 1"
      ],
      "execution_count": null,
      "outputs": []
    },
    {
      "cell_type": "code",
      "metadata": {
        "id": "0DNQ0MA-7_4l"
      },
      "source": [
        "train_label_names = [name_map[lbl_id] for lbl_id in training_labels]"
      ],
      "execution_count": null,
      "outputs": []
    },
    {
      "cell_type": "code",
      "metadata": {
        "colab": {
          "base_uri": "https://localhost:8080/"
        },
        "id": "JnTUfL8F-hzU",
        "outputId": "3726ffc1-0688-43af-b7f7-879d2068a446"
      },
      "source": [
        "train_id"
      ],
      "execution_count": null,
      "outputs": [
        {
          "output_type": "execute_result",
          "data": {
            "text/plain": [
              "22275"
            ]
          },
          "metadata": {
            "tags": []
          },
          "execution_count": 20
        }
      ]
    },
    {
      "cell_type": "code",
      "metadata": {
        "colab": {
          "base_uri": "https://localhost:8080/",
          "height": 286
        },
        "id": "-hbUmLVH8MFn",
        "outputId": "aa2884bc-cd57-425b-e123-80a616083701"
      },
      "source": [
        "import matplotlib.pyplot as plt\r\n",
        "\r\n",
        "img = Image.open(\"download.jpg\") \r\n",
        "img = img.convert(\"RGB\")\r\n",
        "milk = np.array(img)\r\n",
        "plt.imshow(milk)"
      ],
      "execution_count": null,
      "outputs": [
        {
          "output_type": "execute_result",
          "data": {
            "text/plain": [
              "<matplotlib.image.AxesImage at 0x7f54194a8748>"
            ]
          },
          "metadata": {
            "tags": []
          },
          "execution_count": 34
        },
        {
          "output_type": "display_data",
          "data": {
            "image/png": "[encoded data removed]",
            "text/plain": [
              "<Figure size 432x288 with 1 Axes>"
            ]
          },
          "metadata": {
            "tags": [],
            "needs_background": "light"
          }
        }
      ]
    },
    {
      "cell_type": "code",
      "metadata": {
        "colab": {
          "base_uri": "https://localhost:8080/"
        },
        "id": "3gwNHyOwb07i",
        "outputId": "d796a426-aba6-4b12-e2a1-c8c5157c28fd"
      },
      "source": [
        "milk.shape"
      ],
      "execution_count": null,
      "outputs": [
        {
          "output_type": "execute_result",
          "data": {
            "text/plain": [
              "(720, 1280, 3)"
            ]
          },
          "metadata": {
            "tags": []
          },
          "execution_count": 22
        }
      ]
    },
    {
      "cell_type": "code",
      "metadata": {
        "colab": {
          "base_uri": "https://localhost:8080/",
          "height": 286
        },
        "id": "qSyNV48ye7JX",
        "outputId": "e0b2fc2a-716e-4bf5-b74b-0f38c52a70f1"
      },
      "source": [
        "plt.imshow(milk[600:1100, 50:300])"
      ],
      "execution_count": null,
      "outputs": [
        {
          "output_type": "execute_result",
          "data": {
            "text/plain": [
              "<matplotlib.image.AxesImage at 0x7f5418a530f0>"
            ]
          },
          "metadata": {
            "tags": []
          },
          "execution_count": 41
        },
        {
          "output_type": "display_data",
          "data": {
            "image/png": "[encoded data removed]",
            "text/plain": [
              "<Figure size 432x288 with 1 Axes>"
            ]
          },
          "metadata": {
            "tags": [],
            "needs_background": "light"
          }
        }
      ]
    },
    {
      "cell_type": "code",
      "metadata": {
        "id": "JGsZBf0S8nuW"
      },
      "source": [
        "milk = np.array([milk[600:1100, 50:300]])"
      ],
      "execution_count": null,
      "outputs": []
    },
    {
      "cell_type": "code",
      "metadata": {
        "colab": {
          "base_uri": "https://localhost:8080/"
        },
        "id": "aoUPJtFtcKw6",
        "outputId": "9fec4d5c-2312-43a0-ffa0-78df32473af6"
      },
      "source": [
        "milk.shape"
      ],
      "execution_count": null,
      "outputs": [
        {
          "output_type": "execute_result",
          "data": {
            "text/plain": [
              "(1, 500, 250, 3)"
            ]
          },
          "metadata": {
            "tags": []
          },
          "execution_count": 43
        }
      ]
    },
    {
      "cell_type": "code",
      "metadata": {
        "colab": {
          "base_uri": "https://localhost:8080/"
        },
        "id": "CjrZ1ox8cnMS",
        "outputId": "af790ecd-af3f-402b-c424-649c22f377ac"
      },
      "source": [
        "from tensorflow.keras.models import load_model\r\n",
        "best_model = load_model(wandb.restore(\"model-best.h5\", run_path=\"/zshoham/FridgeVision/vwjigbmr\").name)\r\n",
        "best_model.trainable = False\r\n",
        "model = tf.keras.Model(best_model.input, best_model.output, name=\"Best\")\r\n",
        "model.summary()"
      ],
      "execution_count": null,
      "outputs": [
        {
          "output_type": "stream",
          "text": [
            "Model: \"Best\"\n",
            "_________________________________________________________________\n",
            "Layer (type)                 Output Shape              Param #   \n",
            "=================================================================\n",
            "input_4 (InputLayer)         [(None, None, None, 3)]   0         \n",
            "_________________________________________________________________\n",
            "resizing_1 (Resizing)        (None, 224, 224, 3)       0         \n",
            "_________________________________________________________________\n",
            "efficientnetb0 (Functional)  (None, 7, 7, 1280)        4049571   \n",
            "_________________________________________________________________\n",
            "avg_pool (GlobalAveragePooli (None, 1280)              0         \n",
            "_________________________________________________________________\n",
            "batch_normalization_1 (Batch (None, 1280)              5120      \n",
            "_________________________________________________________________\n",
            "dropout_1 (Dropout)          (None, 1280)              0         \n",
            "_________________________________________________________________\n",
            "dense_1 (Dense)              (None, 25)                32025     \n",
            "=================================================================\n",
            "Total params: 4,086,716\n",
            "Trainable params: 0\n",
            "Non-trainable params: 4,086,716\n",
            "_________________________________________________________________\n"
          ],
          "name": "stdout"
        }
      ]
    },
    {
      "cell_type": "code",
      "metadata": {
        "colab": {
          "base_uri": "https://localhost:8080/"
        },
        "id": "B6-65YSs8Zno",
        "outputId": "fe5494db-77e8-4602-a195-39f4d32d320e"
      },
      "source": [
        "\r\n",
        "probs = model.predict(milk)\r\n",
        "print(probs)\r\n",
        "print(np.argmax(probs, axis=1))"
      ],
      "execution_count": null,
      "outputs": [
        {
          "output_type": "stream",
          "text": [
            "[[9.8163468e-01 7.3412363e-03 2.1092632e-05 9.8012367e-07 4.0505675e-04\n",
            "  1.2116152e-07 4.5598161e-05 1.7905360e-04 1.6180836e-04 4.3613531e-06\n",
            "  5.9270893e-05 5.2584743e-04 8.7633714e-05 3.2550929e-08 2.3265410e-04\n",
            "  1.8578225e-04 1.1322107e-03 7.9365661e-03 2.4387020e-05 2.7806623e-06\n",
            "  7.0261885e-06 4.7515373e-06 4.1887160e-06 2.0881428e-06 7.7455604e-07]]\n",
            "[0]\n"
          ],
          "name": "stdout"
        }
      ]
    },
    {
      "cell_type": "code",
      "metadata": {
        "colab": {
          "base_uri": "https://localhost:8080/",
          "height": 35
        },
        "id": "uzij5WB5dkC5",
        "outputId": "d69970d5-236e-4fe0-f99d-357688833ebe"
      },
      "source": [
        "cls_map[\"id-name\"][0]"
      ],
      "execution_count": null,
      "outputs": [
        {
          "output_type": "execute_result",
          "data": {
            "application/vnd.google.colaboratory.intrinsic+json": {
              "type": "string"
            },
            "text/plain": [
              "'Milk'"
            ]
          },
          "metadata": {
            "tags": []
          },
          "execution_count": 47
        }
      ]
    },
    {
      "cell_type": "code",
      "metadata": {
        "colab": {
          "base_uri": "https://localhost:8080/"
        },
        "id": "at_TQbh6kWdb",
        "outputId": "0b11e43a-e470-4d74-ef99-19c9189bda38"
      },
      "source": [
        "cls_map[\"name-id\"]['Pepper']"
      ],
      "execution_count": null,
      "outputs": [
        {
          "output_type": "execute_result",
          "data": {
            "text/plain": [
              "8"
            ]
          },
          "metadata": {
            "tags": []
          },
          "execution_count": 114
        }
      ]
    },
    {
      "cell_type": "code",
      "metadata": {
        "colab": {
          "base_uri": "https://localhost:8080/"
        },
        "id": "OZRYKQngfhzH",
        "outputId": "e83f413b-1a58-44c9-f97c-d11b2f10560f"
      },
      "source": [
        "probs[0][8]"
      ],
      "execution_count": null,
      "outputs": [
        {
          "output_type": "execute_result",
          "data": {
            "text/plain": [
              "0.17623538"
            ]
          },
          "metadata": {
            "tags": []
          },
          "execution_count": 115
        }
      ]
    }
  ]
}